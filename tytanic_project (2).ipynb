{
 "cells": [
  {
   "cell_type": "markdown",
   "id": "335ed676-78d1-4205-9745-7e738ae09aa6",
   "metadata": {},
   "source": [
    "#Getting information about file\n",
    "import pandas as pd\n",
    "import matplotlib.pyplot as plt\n",
    "import seaborn as sns\n",
    "\n",
    "train_data = pd.read_csv('train.csv')"
   ]
  },
  {
   "cell_type": "markdown",
   "id": "c0662fde-ff96-4f13-9157-d349da6f98f1",
   "metadata": {
    "scrolled": true
   },
   "source": [
    "train_data.info()"
   ]
  },
  {
   "cell_type": "markdown",
   "id": "1877a646-1da7-4956-84c0-0c5ce918042f",
   "metadata": {},
   "source": [
    "#summarry of the file\n",
    "summary_stats = train_data.describe()"
   ]
  },
  {
   "cell_type": "markdown",
   "id": "21a893f6-fd0e-41b7-a75a-b598a27c46f3",
   "metadata": {
    "scrolled": true
   },
   "source": [
    "summary_stats"
   ]
  },
  {
   "cell_type": "markdown",
   "id": "715007e7-d684-4a86-a803-cee5a493e26c",
   "metadata": {},
   "source": [
    "#showing all null values\n",
    "null_mask = train_data.isnull().any(axis=1)\n",
    "null_rows = train_data[null_mask]"
   ]
  },
  {
   "cell_type": "markdown",
   "id": "1c330902-8643-48c2-a915-bfa0f8fd8999",
   "metadata": {},
   "source": [
    "print(null_rows)"
   ]
  },
  {
   "cell_type": "markdown",
   "id": "2fc978e6-d366-4f43-ac40-cb3c3a7820e4",
   "metadata": {
    "scrolled": true
   },
   "source": [
    "#removing the Cabin column\n",
    "train_data.drop('Cabin', axis=1, inplace = True)"
   ]
  },
  {
   "cell_type": "markdown",
   "id": "82945c78-b220-4197-8c32-e82c0f510c59",
   "metadata": {},
   "source": [
    "train_data"
   ]
  },
  {
   "cell_type": "markdown",
   "id": "48beb109-70dc-433c-a263-9951d84d4534",
   "metadata": {},
   "source": [
    "#changing NULL values in Passenger Id collunm\n",
    "train_data['PassengerId'].fillna('Unknown ID Number', inplace = True)"
   ]
  },
  {
   "cell_type": "markdown",
   "id": "0eec8b56-0f4d-4850-8da5-5c7b52237c74",
   "metadata": {},
   "source": [
    "#finding most common Embarked value\n",
    "most_common_embarked = train_data['Embarked'].mode()[0]\n",
    "# Fill missing values in 'Embarked' with the most common value\n",
    "train_data['Embarked'].fillna(most_common_embarked, inplace=True)\n",
    "# Check for missing values after handling\n",
    "missing_values_after_handling = train_data.isnull().sum()\n",
    "print('Missing Values after Handling:', missing_values_after_handling)\n",
    "#find and replace NULL age values with Median of Age\n",
    "train_data['Age'].fillna(train_data['Age'].median(), inplace=True)"
   ]
  },
  {
   "cell_type": "markdown",
   "id": "acb044c8-c4ed-4d6d-876c-ec0b0532a7e4",
   "metadata": {},
   "source": [
    "#calculating the precntage of people who survived\n",
    "survival_precentage = (train_data['Survived'].sum() / len(train_data)) * 100\n",
    "print(f\"Precentage of people who survived: {survival_precentage:.1f}%\")"
   ]
  },
  {
   "cell_type": "markdown",
   "id": "a8f2f27c-e883-4458-a887-5b6ecab980f2",
   "metadata": {},
   "source": [
    "sns.set(style=\"whitegrid\")\n",
    "\n",
    "# Visualize survival rate by gender\n",
    "plt.figure(figsize=(8, 6))\n",
    "ax = sns.countplot(x='Survived', hue='Sex', data=train_data)\n",
    "\n",
    "# Add numbers (annotations) on top of the bars\n",
    "for p in ax.patches:\n",
    "    height = p.get_height()\n",
    "    ax.text(p.get_x() + p.get_width()/2., height + 1, f'{height}', ha=\"center\")\n",
    "\n",
    "plt.title('Survival Distribution by Gender (0 = No, 1 = Yes)')\n",
    "plt.xlabel('Survival')\n",
    "plt.ylabel('Count')\n",
    "plt.legend(title='Gender', labels=['Male', 'Female'])\n",
    "plt.show()"
   ]
  },
  {
   "cell_type": "markdown",
   "id": "fe2ab882-eb67-4ef8-bac2-d60dfccd4f8b",
   "metadata": {},
   "source": [
    "#Visual Survival rate by age\n",
    "plt.figure(figsize=(12,6))\n",
    "sns.histplot(x='Age', hue='Survived', data=train_data, kde=True)\n",
    "plt.title('Survival Distribution by Age')\n",
    "plt.xlabel('Age')\n",
    "plt.ylabel('Count')\n",
    "plt.legend(title='Survived', labels=['No', 'Yes'])\n",
    "plt.show()"
   ]
  },
  {
   "cell_type": "markdown",
   "id": "ea8608af-1ff2-4805-92ce-c87d62bb73b1",
   "metadata": {},
   "source": [
    "#Visual Survival rate by class\n",
    "plt.figure(figsize=(10, 6))\n",
    "sns.countplot(x='Pclass', hue='Survived', data=train_data)\n",
    "plt.title('Survival Distribution by Passenger Class')\n",
    "plt.xlabel('Passenger Class')\n",
    "plt.ylabel('Survival Rate')\n",
    "plt.show()"
   ]
  },
  {
   "cell_type": "markdown",
   "id": "1fa4afb0-1858-4813-80a5-7d3de74e84e2",
   "metadata": {},
   "source": []
  },
  {
   "cell_type": "code",
   "execution_count": null,
   "id": "053cc0b9-61d0-43c3-b193-82cc1c64fdc3",
   "metadata": {},
   "outputs": [],
   "source": []
  }
 ],
 "metadata": {
  "kernelspec": {
   "display_name": "Python 3 (ipykernel)",
   "language": "python",
   "name": "python3"
  },
  "language_info": {
   "codemirror_mode": {
    "name": "ipython",
    "version": 3
   },
   "file_extension": ".py",
   "mimetype": "text/x-python",
   "name": "python",
   "nbconvert_exporter": "python",
   "pygments_lexer": "ipython3",
   "version": "3.10.6"
  }
 },
 "nbformat": 4,
 "nbformat_minor": 5
}
