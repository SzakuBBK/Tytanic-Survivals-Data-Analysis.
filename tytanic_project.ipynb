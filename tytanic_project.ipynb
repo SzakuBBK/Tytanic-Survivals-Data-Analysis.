{
 "cells": [
  {
   "cell_type": "code",
   "execution_count": null,
   "id": "54f0de70-028a-4c70-9100-0676bcb6ce35",
   "metadata": {},
   "outputs": [],
   "source": [
    "#Getting information about file\n",
    "import pandas as pd\n",
    "import matplotlib.pyplot as plt\n",
    "import seaborn as sns\n",
    "\n",
    "train_data = pd.read_csv('train.csv')"
   ]
  },
  {
   "cell_type": "code",
   "execution_count": null,
   "id": "676e2fb3-98ae-4ea2-9d90-fa13ab5d6d1d",
   "metadata": {
    "scrolled": true
   },
   "outputs": [],
   "source": [
    "train_data.info()"
   ]
  },
  {
   "cell_type": "code",
   "execution_count": null,
   "id": "6770aea7-766f-45f9-828a-57bdd8b567b7",
   "metadata": {},
   "outputs": [],
   "source": [
    "#summarry of the file\n",
    "summary_stats = train_data.describe()"
   ]
  },
  {
   "cell_type": "code",
   "execution_count": null,
   "id": "c10dabbd-2b57-4739-883c-cff4b4af82b2",
   "metadata": {
    "scrolled": true
   },
   "outputs": [],
   "source": [
    "summary_stats"
   ]
  },
  {
   "cell_type": "code",
   "execution_count": null,
   "id": "62a098a1-dab4-49e3-97fb-1ad45d84b6ab",
   "metadata": {},
   "outputs": [],
   "source": [
    "#showing all null values\n",
    "null_mask = train_data.isnull().any(axis=1)\n",
    "null_rows = train_data[null_mask]"
   ]
  },
  {
   "cell_type": "code",
   "execution_count": null,
   "id": "29024fda-9003-4221-ae5f-ef70ac37d281",
   "metadata": {},
   "outputs": [],
   "source": [
    "print(null_rows)"
   ]
  },
  {
   "cell_type": "code",
   "execution_count": null,
   "id": "d1480bc3-1a25-4498-91ac-774ed5f7c8d7",
   "metadata": {
    "scrolled": true
   },
   "outputs": [],
   "source": [
    "#removing the Cabin column\n",
    "train_data.drop('Cabin', axis=1, inplace = True)"
   ]
  },
  {
   "cell_type": "code",
   "execution_count": null,
   "id": "fa18e436-61e3-49f2-a86a-db24ef6c6ded",
   "metadata": {},
   "outputs": [],
   "source": [
    "train_data"
   ]
  },
  {
   "cell_type": "code",
   "execution_count": null,
   "id": "6d334513-243a-4d91-8514-cec99ca142a3",
   "metadata": {},
   "outputs": [],
   "source": [
    "#changing NULL values in Passenger Id collunm\n",
    "train_data['PassengerId'].fillna('Unknown ID Number', inplace = True)"
   ]
  },
  {
   "cell_type": "code",
   "execution_count": null,
   "id": "0c5c110e-b339-4acb-bf9e-ec646703c5ac",
   "metadata": {},
   "outputs": [],
   "source": [
    "#finding most common Embarked value\n",
    "most_common_embarked = train_data['Embarked'].mode()[0]\n",
    "# Fill missing values in 'Embarked' with the most common value\n",
    "train_data['Embarked'].fillna(most_common_embarked, inplace=True)\n",
    "# Check for missing values after handling\n",
    "missing_values_after_handling = train_data.isnull().sum()\n",
    "print('Missing Values after Handling:', missing_values_after_handling)\n",
    "#find and replace NULL age values with Median of Age\n",
    "train_data['Age'].fillna(train_data['Age'].median(), inplace=True)"
   ]
  },
  {
   "cell_type": "code",
   "execution_count": null,
   "id": "b207dc74-77b6-4572-ba48-0fe973160356",
   "metadata": {},
   "outputs": [],
   "source": [
    "#calculating the precntage of people who survived\n",
    "survival_precentage = (train_data['Survived'].sum() / len(train_data)) * 100\n",
    "print(f\"Precentage of people who survived: {survival_precentage:.1f}%\")"
   ]
  },
  {
   "cell_type": "code",
   "execution_count": null,
   "id": "164b05a6-bed0-436c-bfd4-18c1045ed585",
   "metadata": {},
   "outputs": [],
   "source": [
    "sns.set(style=\"whitegrid\")\n",
    "\n",
    "# Visualize survival rate by gender\n",
    "plt.figure(figsize=(8, 6))\n",
    "ax = sns.countplot(x='Survived', hue='Sex', data=train_data)\n",
    "\n",
    "# Add numbers (annotations) on top of the bars\n",
    "for p in ax.patches:\n",
    "    height = p.get_height()\n",
    "    ax.text(p.get_x() + p.get_width()/2., height + 1, f'{height}', ha=\"center\")\n",
    "\n",
    "plt.title('Survival Distribution by Gender (0 = No, 1 = Yes)')\n",
    "plt.xlabel('Survival')\n",
    "plt.ylabel('Count')\n",
    "plt.legend(title='Gender', labels=['Male', 'Female'])\n",
    "plt.show()"
   ]
  },
  {
   "cell_type": "code",
   "execution_count": null,
   "id": "2d534422-8e86-4f51-a62c-34f8a5b1e102",
   "metadata": {},
   "outputs": [],
   "source": [
    "#Visual Survival rate by age\n",
    "plt.figure(figsize=(12,6))\n",
    "sns.histplot(x='Age', hue='Survived', data=train_data, kde=True)\n",
    "plt.title('Survival Distribution by Age')\n",
    "plt.xlabel('Age')\n",
    "plt.ylabel('Count')\n",
    "plt.legend(title='Survived', labels=['No', 'Yes'])\n",
    "plt.show()"
   ]
  },
  {
   "cell_type": "code",
   "execution_count": null,
   "id": "8a499217-c151-4d6a-b684-3976a90642b1",
   "metadata": {},
   "outputs": [],
   "source": [
    "#Visual Survival rate by class\n",
    "plt.figure(figsize=(10, 6))\n",
    "sns.countplot(x='Pclass', hue='Survived', data=train_data)\n",
    "plt.title('Survival Distribution by Passenger Class')\n",
    "plt.xlabel('Passenger Class')\n",
    "plt.ylabel('Survival Rate')\n",
    "plt.show()"
   ]
  }
 ],
 "metadata": {
  "kernelspec": {
   "display_name": "Python 3 (ipykernel)",
   "language": "python",
   "name": "python3"
  },
  "language_info": {
   "codemirror_mode": {
    "name": "ipython",
    "version": 3
   },
   "file_extension": ".py",
   "mimetype": "text/x-python",
   "name": "python",
   "nbconvert_exporter": "python",
   "pygments_lexer": "ipython3",
   "version": "3.10.6"
  }
 },
 "nbformat": 4,
 "nbformat_minor": 5
}
